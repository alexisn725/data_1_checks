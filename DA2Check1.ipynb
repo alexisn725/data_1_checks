{
 "cells": [
  {
   "cell_type": "code",
   "execution_count": 5,
   "id": "5996d671",
   "metadata": {},
   "outputs": [],
   "source": [
    "#Pull in data from an API. Here's a list of public APIs that don't require Auth keys, \n",
    "#though if you have another API you want to use feel free: https://apipheny.io/free-api/\n"
   ]
  },
  {
   "cell_type": "code",
   "execution_count": 2,
   "id": "d14ad7cf",
   "metadata": {},
   "outputs": [],
   "source": [
    "#Find and print TWO descriptive statistics about your data. This can be absolutely anything, \n",
    "#from the mean() or sum() of a column to the number of different categories, to the number of \n",
    "#null values in a column. We just want to see two pieces of information."
   ]
  },
  {
   "cell_type": "code",
   "execution_count": 3,
   "id": "11cfc203",
   "metadata": {},
   "outputs": [],
   "source": [
    "#Write a query in Pandas to select a particular set of your data. You can use a mask or with .query(), \n",
    "#but we want you to pull out a subset based on any parameter you like. This could be \n",
    "#\"show me every row where HTTPS=False\" or anything else."
   ]
  },
  {
   "cell_type": "code",
   "execution_count": 4,
   "id": "68703554",
   "metadata": {},
   "outputs": [],
   "source": [
    "#Select and print the SECOND AND THIRD columns of your data frame."
   ]
  },
  {
   "cell_type": "code",
   "execution_count": null,
   "id": "44cbf46a",
   "metadata": {},
   "outputs": [],
   "source": [
    "#Select and print the FIRST 4 rows of you data frame"
   ]
  }
 ],
 "metadata": {
  "kernelspec": {
   "display_name": "Python 3 (ipykernel)",
   "language": "python",
   "name": "python3"
  },
  "language_info": {
   "codemirror_mode": {
    "name": "ipython",
    "version": 3
   },
   "file_extension": ".py",
   "mimetype": "text/x-python",
   "name": "python",
   "nbconvert_exporter": "python",
   "pygments_lexer": "ipython3",
   "version": "3.9.12"
  }
 },
 "nbformat": 4,
 "nbformat_minor": 5
}
