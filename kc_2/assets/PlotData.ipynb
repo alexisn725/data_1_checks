{
 "cells": [
  {
   "cell_type": "code",
   "execution_count": 3,
   "id": "b8aa4791",
   "metadata": {},
   "outputs": [],
   "source": [
    "import matplotlib as mpl\n",
    "import matplotlib.pyplot as plt\n",
    "import numpy as np"
   ]
  },
  {
   "cell_type": "code",
   "execution_count": 5,
   "id": "bb192414",
   "metadata": {},
   "outputs": [
    {
     "name": "stdout",
     "output_type": "stream",
     "text": [
      "      Year  Month  FIPS  Beverage    Gallons  Ethanol  Population  PerCapita  \\\n",
      "0     2017      1     2         1   103645.0    42598      594304     0.0717   \n",
      "1     2017      1     8         1   733857.0   301615     4639112     0.0650   \n",
      "2     2017      1     9         1   412100.0   169373     3017061     0.0561   \n",
      "3     2017      1    10         1   180388.0    74139      800398     0.0926   \n",
      "4     2017      1    12         1  2770686.0  1138752    17733837     0.0642   \n",
      "...    ...    ...   ...       ...        ...      ...         ...        ...   \n",
      "2907  2021      8    27         4        NaN  1248935     4652447     0.2684   \n",
      "2908  2021      8    29         4        NaN  1212586     5093948     0.2380   \n",
      "2909  2021      8    38         4        NaN   187757      620677     0.3025   \n",
      "2910  2021      8    47         4        NaN  1173051     5718921     0.2051   \n",
      "2911  2021      8    48         4        NaN  4585911    23608900     0.1942   \n",
      "\n",
      "      PerCapita3yr  PctChange  \n",
      "0              NaN        NaN  \n",
      "1              NaN        NaN  \n",
      "2              NaN        NaN  \n",
      "3              NaN        NaN  \n",
      "4              NaN        NaN  \n",
      "...            ...        ...  \n",
      "2907        0.2577     0.0416  \n",
      "2908        0.2236     0.0646  \n",
      "2909        0.2730     0.1082  \n",
      "2910        0.1785     0.1491  \n",
      "2911        0.1938     0.0023  \n",
      "\n",
      "[2912 rows x 10 columns]\n"
     ]
    }
   ],
   "source": [
    "import pandas as pd\n",
    "\n",
    "df = pd.read_csv('Data-Table 1.csv')\n",
    "\n",
    "print(df)"
   ]
  },
  {
   "cell_type": "code",
   "execution_count": 6,
   "id": "6f941cee",
   "metadata": {},
   "outputs": [
    {
     "data": {
      "text/plain": [
       "pandas.core.frame.DataFrame"
      ]
     },
     "execution_count": 6,
     "metadata": {},
     "output_type": "execute_result"
    }
   ],
   "source": [
    "type(df)"
   ]
  },
  {
   "cell_type": "code",
   "execution_count": 7,
   "id": "9ab80ec1",
   "metadata": {},
   "outputs": [
    {
     "data": {
      "text/plain": [
       "Year              int64\n",
       "Month             int64\n",
       "FIPS              int64\n",
       "Beverage          int64\n",
       "Gallons         float64\n",
       "Ethanol           int64\n",
       "Population        int64\n",
       "PerCapita       float64\n",
       "PerCapita3yr    float64\n",
       "PctChange       float64\n",
       "dtype: object"
      ]
     },
     "execution_count": 7,
     "metadata": {},
     "output_type": "execute_result"
    }
   ],
   "source": [
    "df.dtypes"
   ]
  },
  {
   "cell_type": "code",
   "execution_count": 8,
   "id": "f22d9200",
   "metadata": {},
   "outputs": [
    {
     "data": {
      "text/plain": [
       "Text(0, 0.5, 'Gallons')"
      ]
     },
     "execution_count": 8,
     "metadata": {},
     "output_type": "execute_result"
    },
    {
     "data": {
      "image/png": "[encoded data removed]",
      "text/plain": [
       "<Figure size 900x600 with 1 Axes>"
      ]
     },
     "metadata": {},
     "output_type": "display_data"
    }
   ],
   "source": [
    "plt.figure(figsize=(9,6)) \n",
    "plt.bar(x=df['Year'],\n",
    " \n",
    "        height=df['Gallons'])\n",
    "plt.title(\"Gallons Sold Per Year\")\n",
    "plt.xlabel(\"Year\")\n",
    "plt.ylabel(\"Gallons\")"
   ]
  },
  {
   "cell_type": "code",
   "execution_count": null,
   "id": "1b46478a",
   "metadata": {},
   "outputs": [],
   "source": []
  }
 ],
 "metadata": {
  "kernelspec": {
   "display_name": "Python 3 (ipykernel)",
   "language": "python",
   "name": "python3"
  },
  "language_info": {
   "codemirror_mode": {
    "name": "ipython",
    "version": 3
   },
   "file_extension": ".py",
   "mimetype": "text/x-python",
   "name": "python",
   "nbconvert_exporter": "python",
   "pygments_lexer": "ipython3",
   "version": "3.9.12"
  }
 },
 "nbformat": 4,
 "nbformat_minor": 5
}
