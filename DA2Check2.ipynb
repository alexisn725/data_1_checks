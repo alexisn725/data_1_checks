{
 "cells": [
  {
   "cell_type": "code",
   "execution_count": 1,
   "id": "6e9bcb0d",
   "metadata": {},
   "outputs": [],
   "source": [
    "import pandas as pd\n",
    "import numpy as np"
   ]
  },
  {
   "cell_type": "code",
   "execution_count": 2,
   "id": "2f02c6fb",
   "metadata": {},
   "outputs": [],
   "source": [
    "#read in CSV file\n",
    "df = pd.read_csv('Data-Table1.csv')"
   ]
  },
  {
   "cell_type": "code",
   "execution_count": 3,
   "id": "87deb509",
   "metadata": {
    "scrolled": true
   },
   "outputs": [
    {
     "name": "stdout",
     "output_type": "stream",
     "text": [
      "(2912, 10)\n"
     ]
    }
   ],
   "source": [
    "#get an idea of what the data looks like\n",
    "print(df.shape)"
   ]
  },
  {
   "cell_type": "code",
   "execution_count": 4,
   "id": "ab07cb61",
   "metadata": {},
   "outputs": [
    {
     "name": "stdout",
     "output_type": "stream",
     "text": [
      "   Year  Month  FIPS  Beverage    Gallons  Ethanol  Population  PerCapita  \\\n",
      "0  2017      1     2         1   103645.0    42598      594304     0.0717   \n",
      "1  2017      1     8         1   733857.0   301615     4639112     0.0650   \n",
      "2  2017      1     9         1   412100.0   169373     3017061     0.0561   \n",
      "3  2017      1    10         1   180388.0    74139      800398     0.0926   \n",
      "4  2017      1    12         1  2770686.0  1138752    17733837     0.0642   \n",
      "\n",
      "   PerCapita3yr  PctChange  \n",
      "0           NaN        NaN  \n",
      "1           NaN        NaN  \n",
      "2           NaN        NaN  \n",
      "3           NaN        NaN  \n",
      "4           NaN        NaN  \n"
     ]
    },
    {
     "data": {
      "text/html": [
       "<div>\n",
       "<style scoped>\n",
       "    .dataframe tbody tr th:only-of-type {\n",
       "        vertical-align: middle;\n",
       "    }\n",
       "\n",
       "    .dataframe tbody tr th {\n",
       "        vertical-align: top;\n",
       "    }\n",
       "\n",
       "    .dataframe thead th {\n",
       "        text-align: right;\n",
       "    }\n",
       "</style>\n",
       "<table border=\"1\" class=\"dataframe\">\n",
       "  <thead>\n",
       "    <tr style=\"text-align: right;\">\n",
       "      <th></th>\n",
       "      <th>Year</th>\n",
       "      <th>Month</th>\n",
       "      <th>FIPS</th>\n",
       "      <th>Beverage</th>\n",
       "      <th>Gallons</th>\n",
       "      <th>Ethanol</th>\n",
       "      <th>Population</th>\n",
       "      <th>PerCapita</th>\n",
       "      <th>PerCapita3yr</th>\n",
       "      <th>PctChange</th>\n",
       "    </tr>\n",
       "  </thead>\n",
       "  <tbody>\n",
       "    <tr>\n",
       "      <th>0</th>\n",
       "      <td>2017</td>\n",
       "      <td>1</td>\n",
       "      <td>2</td>\n",
       "      <td>1</td>\n",
       "      <td>103645.0</td>\n",
       "      <td>42598</td>\n",
       "      <td>594304</td>\n",
       "      <td>0.0717</td>\n",
       "      <td>NaN</td>\n",
       "      <td>NaN</td>\n",
       "    </tr>\n",
       "    <tr>\n",
       "      <th>1</th>\n",
       "      <td>2017</td>\n",
       "      <td>1</td>\n",
       "      <td>8</td>\n",
       "      <td>1</td>\n",
       "      <td>733857.0</td>\n",
       "      <td>301615</td>\n",
       "      <td>4639112</td>\n",
       "      <td>0.0650</td>\n",
       "      <td>NaN</td>\n",
       "      <td>NaN</td>\n",
       "    </tr>\n",
       "    <tr>\n",
       "      <th>2</th>\n",
       "      <td>2017</td>\n",
       "      <td>1</td>\n",
       "      <td>9</td>\n",
       "      <td>1</td>\n",
       "      <td>412100.0</td>\n",
       "      <td>169373</td>\n",
       "      <td>3017061</td>\n",
       "      <td>0.0561</td>\n",
       "      <td>NaN</td>\n",
       "      <td>NaN</td>\n",
       "    </tr>\n",
       "    <tr>\n",
       "      <th>3</th>\n",
       "      <td>2017</td>\n",
       "      <td>1</td>\n",
       "      <td>10</td>\n",
       "      <td>1</td>\n",
       "      <td>180388.0</td>\n",
       "      <td>74139</td>\n",
       "      <td>800398</td>\n",
       "      <td>0.0926</td>\n",
       "      <td>NaN</td>\n",
       "      <td>NaN</td>\n",
       "    </tr>\n",
       "    <tr>\n",
       "      <th>4</th>\n",
       "      <td>2017</td>\n",
       "      <td>1</td>\n",
       "      <td>12</td>\n",
       "      <td>1</td>\n",
       "      <td>2770686.0</td>\n",
       "      <td>1138752</td>\n",
       "      <td>17733837</td>\n",
       "      <td>0.0642</td>\n",
       "      <td>NaN</td>\n",
       "      <td>NaN</td>\n",
       "    </tr>\n",
       "    <tr>\n",
       "      <th>...</th>\n",
       "      <td>...</td>\n",
       "      <td>...</td>\n",
       "      <td>...</td>\n",
       "      <td>...</td>\n",
       "      <td>...</td>\n",
       "      <td>...</td>\n",
       "      <td>...</td>\n",
       "      <td>...</td>\n",
       "      <td>...</td>\n",
       "      <td>...</td>\n",
       "    </tr>\n",
       "    <tr>\n",
       "      <th>2907</th>\n",
       "      <td>2021</td>\n",
       "      <td>8</td>\n",
       "      <td>27</td>\n",
       "      <td>4</td>\n",
       "      <td>NaN</td>\n",
       "      <td>1248935</td>\n",
       "      <td>4652447</td>\n",
       "      <td>0.2684</td>\n",
       "      <td>0.2577</td>\n",
       "      <td>0.0416</td>\n",
       "    </tr>\n",
       "    <tr>\n",
       "      <th>2908</th>\n",
       "      <td>2021</td>\n",
       "      <td>8</td>\n",
       "      <td>29</td>\n",
       "      <td>4</td>\n",
       "      <td>NaN</td>\n",
       "      <td>1212586</td>\n",
       "      <td>5093948</td>\n",
       "      <td>0.2380</td>\n",
       "      <td>0.2236</td>\n",
       "      <td>0.0646</td>\n",
       "    </tr>\n",
       "    <tr>\n",
       "      <th>2909</th>\n",
       "      <td>2021</td>\n",
       "      <td>8</td>\n",
       "      <td>38</td>\n",
       "      <td>4</td>\n",
       "      <td>NaN</td>\n",
       "      <td>187757</td>\n",
       "      <td>620677</td>\n",
       "      <td>0.3025</td>\n",
       "      <td>0.2730</td>\n",
       "      <td>0.1082</td>\n",
       "    </tr>\n",
       "    <tr>\n",
       "      <th>2910</th>\n",
       "      <td>2021</td>\n",
       "      <td>8</td>\n",
       "      <td>47</td>\n",
       "      <td>4</td>\n",
       "      <td>NaN</td>\n",
       "      <td>1173051</td>\n",
       "      <td>5718921</td>\n",
       "      <td>0.2051</td>\n",
       "      <td>0.1785</td>\n",
       "      <td>0.1491</td>\n",
       "    </tr>\n",
       "    <tr>\n",
       "      <th>2911</th>\n",
       "      <td>2021</td>\n",
       "      <td>8</td>\n",
       "      <td>48</td>\n",
       "      <td>4</td>\n",
       "      <td>NaN</td>\n",
       "      <td>4585911</td>\n",
       "      <td>23608900</td>\n",
       "      <td>0.1942</td>\n",
       "      <td>0.1938</td>\n",
       "      <td>0.0023</td>\n",
       "    </tr>\n",
       "  </tbody>\n",
       "</table>\n",
       "<p>2912 rows × 10 columns</p>\n",
       "</div>"
      ],
      "text/plain": [
       "      Year  Month  FIPS  Beverage    Gallons  Ethanol  Population  PerCapita  \\\n",
       "0     2017      1     2         1   103645.0    42598      594304     0.0717   \n",
       "1     2017      1     8         1   733857.0   301615     4639112     0.0650   \n",
       "2     2017      1     9         1   412100.0   169373     3017061     0.0561   \n",
       "3     2017      1    10         1   180388.0    74139      800398     0.0926   \n",
       "4     2017      1    12         1  2770686.0  1138752    17733837     0.0642   \n",
       "...    ...    ...   ...       ...        ...      ...         ...        ...   \n",
       "2907  2021      8    27         4        NaN  1248935     4652447     0.2684   \n",
       "2908  2021      8    29         4        NaN  1212586     5093948     0.2380   \n",
       "2909  2021      8    38         4        NaN   187757      620677     0.3025   \n",
       "2910  2021      8    47         4        NaN  1173051     5718921     0.2051   \n",
       "2911  2021      8    48         4        NaN  4585911    23608900     0.1942   \n",
       "\n",
       "      PerCapita3yr  PctChange  \n",
       "0              NaN        NaN  \n",
       "1              NaN        NaN  \n",
       "2              NaN        NaN  \n",
       "3              NaN        NaN  \n",
       "4              NaN        NaN  \n",
       "...            ...        ...  \n",
       "2907        0.2577     0.0416  \n",
       "2908        0.2236     0.0646  \n",
       "2909        0.2730     0.1082  \n",
       "2910        0.1785     0.1491  \n",
       "2911        0.1938     0.0023  \n",
       "\n",
       "[2912 rows x 10 columns]"
      ]
     },
     "execution_count": 4,
     "metadata": {},
     "output_type": "execute_result"
    }
   ],
   "source": [
    "print(df.head())\n",
    "df"
   ]
  },
  {
   "cell_type": "code",
   "execution_count": 6,
   "id": "f7620bc8",
   "metadata": {},
   "outputs": [
    {
     "name": "stdout",
     "output_type": "stream",
     "text": [
      "      Year  Month  FIPS  Beverage     Gallons  Ethanol  Population  PerCapita  \\\n",
      "1872  2020      1     2         1    121885.0    50095      590127     0.0849   \n",
      "1873  2020      1     8         1    896700.0   368544     4849887     0.0760   \n",
      "1874  2020      1     9         1    656658.0   269886     3017188     0.0894   \n",
      "1875  2020      1    10         1    175845.0    72272      829168     0.0872   \n",
      "1876  2020      1    12         1   3463591.0  1423536    18454373     0.0771   \n",
      "...    ...    ...   ...       ...         ...      ...         ...        ...   \n",
      "2894  2021      8    27         3  10841848.0   487883     4652447     0.1049   \n",
      "2895  2021      8    29         3  11128509.0   500783     5093948     0.0983   \n",
      "2896  2021      8    38         3   2069134.0    93111      620677     0.1500   \n",
      "2897  2021      8    47         3  11625691.0   523156     5718921     0.0915   \n",
      "2898  2021      8    48         3  58112092.0  2615044    23608900     0.1108   \n",
      "\n",
      "      PerCapita3yr  PctChange  \n",
      "1872        0.0728     0.1653  \n",
      "1873        0.0708     0.0728  \n",
      "1874        0.0670     0.3347  \n",
      "1875        0.1000    -0.1288  \n",
      "1876        0.0692     0.1154  \n",
      "...            ...        ...  \n",
      "2894        0.1084    -0.0328  \n",
      "2895        0.1051    -0.0649  \n",
      "2896        0.1337     0.1223  \n",
      "2897        0.0915    -0.0006  \n",
      "2898        0.1050     0.0544  \n",
      "\n",
      "[780 rows x 10 columns]\n"
     ]
    }
   ],
   "source": [
    "#Remove Null Values\n",
    "df.dropna(inplace=True)\n",
    "print(df)"
   ]
  },
  {
   "cell_type": "code",
   "execution_count": 9,
   "id": "aeccc362",
   "metadata": {},
   "outputs": [
    {
     "name": "stdout",
     "output_type": "stream",
     "text": [
      "      Year  Month  FIPS  Beverage    Gallons  Ethanol  Population  PerCapita\n",
      "0     2017      1     2         1   103645.0    42598      594304     0.0717\n",
      "1     2017      1     8         1   733857.0   301615     4639112     0.0650\n",
      "2     2017      1     9         1   412100.0   169373     3017061     0.0561\n",
      "3     2017      1    10         1   180388.0    74139      800398     0.0926\n",
      "4     2017      1    12         1  2770686.0  1138752    17733837     0.0642\n",
      "...    ...    ...   ...       ...        ...      ...         ...        ...\n",
      "2907  2021      8    27         4        NaN  1248935     4652447     0.2684\n",
      "2908  2021      8    29         4        NaN  1212586     5093948     0.2380\n",
      "2909  2021      8    38         4        NaN   187757      620677     0.3025\n",
      "2910  2021      8    47         4        NaN  1173051     5718921     0.2051\n",
      "2911  2021      8    48         4        NaN  4585911    23608900     0.1942\n",
      "\n",
      "[2912 rows x 8 columns]\n",
      "      Year  Month  FIPS  Beverage     Gallons  Ethanol  Population  PerCapita\n",
      "0     2017      1     2         1    103645.0    42598      594304     0.0717\n",
      "1     2017      1     8         1    733857.0   301615     4639112     0.0650\n",
      "2     2017      1     9         1    412100.0   169373     3017061     0.0561\n",
      "3     2017      1    10         1    180388.0    74139      800398     0.0926\n",
      "4     2017      1    12         1   2770686.0  1138752    17733837     0.0642\n",
      "...    ...    ...   ...       ...         ...      ...         ...        ...\n",
      "2894  2021      8    27         3  10841848.0   487883     4652447     0.1049\n",
      "2895  2021      8    29         3  11128509.0   500783     5093948     0.0983\n",
      "2896  2021      8    38         3   2069134.0    93111      620677     0.1500\n",
      "2897  2021      8    47         3  11625691.0   523156     5718921     0.0915\n",
      "2898  2021      8    48         3  58112092.0  2615044    23608900     0.1108\n",
      "\n",
      "[2184 rows x 8 columns]\n"
     ]
    }
   ],
   "source": [
    "#this removed the years 2017-2019 because they had no data in the PerCapita3yr\n",
    "# and PctChange columns; let's check what happens when we drop those columns first \n",
    "\n",
    "df = pd.read_csv('Data-Table1.csv')\n",
    "to_drop = ['PerCapita3yr',\n",
    "          'PctChange']\n",
    "\n",
    "df.drop(to_drop, inplace=True, axis=1)\n",
    "print(df)\n",
    "\n",
    "df.dropna(inplace=True)\n",
    "print(df)"
   ]
  },
  {
   "cell_type": "code",
   "execution_count": null,
   "id": "c1d8ae99",
   "metadata": {},
   "outputs": [],
   "source": [
    "#we get a lot more data to work with, 2184 rows vs 780"
   ]
  },
  {
   "cell_type": "code",
   "execution_count": 10,
   "id": "b9eba485",
   "metadata": {},
   "outputs": [
    {
     "data": {
      "text/plain": [
       "Index(['Year', 'Month', 'FIPS', 'Beverage', 'Gallons', 'Ethanol', 'Population',\n",
       "       'PerCapita'],\n",
       "      dtype='object')"
      ]
     },
     "execution_count": 10,
     "metadata": {},
     "output_type": "execute_result"
    }
   ],
   "source": [
    "#Correct Column Names, let's rename FIPS to 'State' (FIPS is the geographic name)\n",
    "df.columns"
   ]
  },
  {
   "cell_type": "code",
   "execution_count": 11,
   "id": "17b44987",
   "metadata": {
    "scrolled": true
   },
   "outputs": [
    {
     "name": "stdout",
     "output_type": "stream",
     "text": [
      "      Year  Month  State  Beverage     Gallons  Ethanol  Population  PerCapita\n",
      "0     2017      1      2         1    103645.0    42598      594304     0.0717\n",
      "1     2017      1      8         1    733857.0   301615     4639112     0.0650\n",
      "2     2017      1      9         1    412100.0   169373     3017061     0.0561\n",
      "3     2017      1     10         1    180388.0    74139      800398     0.0926\n",
      "4     2017      1     12         1   2770686.0  1138752    17733837     0.0642\n",
      "...    ...    ...    ...       ...         ...      ...         ...        ...\n",
      "2894  2021      8     27         3  10841848.0   487883     4652447     0.1049\n",
      "2895  2021      8     29         3  11128509.0   500783     5093948     0.0983\n",
      "2896  2021      8     38         3   2069134.0    93111      620677     0.1500\n",
      "2897  2021      8     47         3  11625691.0   523156     5718921     0.0915\n",
      "2898  2021      8     48         3  58112092.0  2615044    23608900     0.1108\n",
      "\n",
      "[2184 rows x 8 columns]\n"
     ]
    }
   ],
   "source": [
    "df.rename(columns={\"FIPS\" : \"State\"}, inplace=True)\n",
    "print(df)"
   ]
  },
  {
   "cell_type": "code",
   "execution_count": null,
   "id": "109ea4bb",
   "metadata": {},
   "outputs": [],
   "source": [
    "#in the future i would also rename all the States values with their actual name, not their\n",
    "#FIPS values"
   ]
  }
 ],
 "metadata": {
  "kernelspec": {
   "display_name": "Python 3 (ipykernel)",
   "language": "python",
   "name": "python3"
  },
  "language_info": {
   "codemirror_mode": {
    "name": "ipython",
    "version": 3
   },
   "file_extension": ".py",
   "mimetype": "text/x-python",
   "name": "python",
   "nbconvert_exporter": "python",
   "pygments_lexer": "ipython3",
   "version": "3.9.12"
  }
 },
 "nbformat": 4,
 "nbformat_minor": 5
}
